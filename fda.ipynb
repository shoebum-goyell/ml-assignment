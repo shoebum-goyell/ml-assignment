{
 "cells": [
  {
   "attachments": {},
   "cell_type": "markdown",
   "metadata": {},
   "source": [
    "## Import all the libraries"
   ]
  },
  {
   "cell_type": "code",
   "execution_count": 1,
   "metadata": {},
   "outputs": [],
   "source": [
    "import pandas as pd\n",
    "import feat_eng as fe\n",
    "import fischers as fd\n",
    "import perceptron as pe\n",
    "import random"
   ]
  },
  {
   "attachments": {},
   "cell_type": "markdown",
   "metadata": {},
   "source": [
    "# Perceptron Learning Algorithm"
   ]
  },
  {
   "attachments": {},
   "cell_type": "markdown",
   "metadata": {},
   "source": [
    "## Task 1\n",
    "Build a classifier (Perceptron Model - PM1) using the perceptron algorithm.\n",
    "Figure out whether the data set is linearly separable by building the model. By changing the order\n",
    "of the training examples, build another classifier (PM2) and outline the differences between the\n",
    "models – PM1 and PM2. "
   ]
  },
  {
   "cell_type": "code",
   "execution_count": 2,
   "metadata": {},
   "outputs": [
    {
     "name": "stdout",
     "output_type": "stream",
     "text": [
      "Accuracy of PM1 =  88.29787234042553 %\n",
      "Accuracy of PM2 =  93.08510638297872 %\n"
     ]
    }
   ],
   "source": [
    "data= pd.read_csv(\"dataset.csv\")\n",
    "seed = random.randint(1,100)\n",
    "training= data.sample(frac=0.67, random_state=seed)\n",
    "test = data.drop(training.index)\n",
    "pm1 = pe.Perceptron(training=training, test=test)\n",
    "pm2 = pe.Perceptron(training=training.sample(frac = 1), test=test.sample(frac = 1))\n",
    "pm1acc = pm1.perceptron(epochs=10000)\n",
    "pm2acc = pm2.perceptron(epochs=10000)\n",
    "print(\"Accuracy of PM1 = \", pm1acc, \"%\")\n",
    "print(\"Accuracy of PM2 = \", pm2acc, \"%\")"
   ]
  },
  {
   "attachments": {},
   "cell_type": "markdown",
   "metadata": {},
   "source": [
    "## Task 2\n",
    "Build a classifier (Perceptron Model - PM3) using the perceptron algorithm on\n",
    "the normalized data and figure out the difference between the two classifiers (PM1 and PM3)."
   ]
  },
  {
   "cell_type": "code",
   "execution_count": 3,
   "metadata": {},
   "outputs": [
    {
     "name": "stdout",
     "output_type": "stream",
     "text": [
      "Accuracy of PM1 =  88.29787234042553 %\n",
      "Accuracy of PM3 =  97.34042553191489 %\n"
     ]
    }
   ],
   "source": [
    "training_fe = fe.FeatureEngineering(training)\n",
    "training_fe.task1()\n",
    "training_fe.task2()\n",
    "test_fe = fe.FeatureEngineering(test)\n",
    "test_fe.task1()\n",
    "test_fe.task2()\n",
    "pm3 = pe.Perceptron(training=training_fe.ds, test=test_fe.ds)\n",
    "pm3acc = pm3.perceptron(epochs=10000)\n",
    "print(\"Accuracy of PM1 = \", pm1acc, \"%\")\n",
    "print(\"Accuracy of PM3 = \", pm3acc, \"%\")"
   ]
  },
  {
   "attachments": {},
   "cell_type": "markdown",
   "metadata": {},
   "source": [
    "## Task 3\n",
    "Change the order of features in the dataset randomly. Equivalently speaking,\n",
    "for an example of feature tuple (f1, f2, f3, f4, . . , f32), consider a random permutation (f3, f1, f4,\n",
    "f2, f6, ….., f32) and build a classifier (Perceptron Model – PM4). Would there be any change in\n",
    "the model, PM4, as compared to PM1. If so, outline the differences in the models and their\n",
    "respective performances."
   ]
  },
  {
   "cell_type": "code",
   "execution_count": 22,
   "metadata": {},
   "outputs": [
    {
     "name": "stdout",
     "output_type": "stream",
     "text": [
      "Accuracy of PM1 =  88.29787234042553 %\n",
      "Accuracy of PM4 =  93.08510638297872 %\n"
     ]
    }
   ],
   "source": [
    "seed = random.randint(1,100)\n",
    "pm4 = pe.Perceptron(training=training.sample(frac=1, axis=1,random_state=seed), test=test.sample(frac=1, axis=1, random_state=seed))\n",
    "pm4acc = pm4.perceptron(epochs=10000)\n",
    "print(\"Accuracy of PM1 = \", pm1acc, \"%\")\n",
    "print(\"Accuracy of PM4 = \", pm4acc, \"%\")"
   ]
  },
  {
   "attachments": {},
   "cell_type": "markdown",
   "metadata": {},
   "source": [
    "# Fisher’s Linear Discriminant Analysis"
   ]
  },
  {
   "attachments": {},
   "cell_type": "markdown",
   "metadata": {},
   "source": [
    "## Task 1\n",
    "Build Fisher’s linear discriminant model (FLDM1) on the training data and thus\n",
    "reduce 32dimensional problem to univariate dimensional problem. Find out the decision\n",
    "boundary in the univariate dimension using generative approach. You may assume gaussian\n",
    "distribution for both positive and negative classes in the univariate dimension. "
   ]
  },
  {
   "cell_type": "code",
   "execution_count": 7,
   "metadata": {},
   "outputs": [
    {
     "name": "stdout",
     "output_type": "stream",
     "text": [
      "Accuracy of FLDM1 =  95.74468085106383 %\n"
     ]
    }
   ],
   "source": [
    "fldm1 = fd.Fischers(training=training_fe.ds, test=test_fe.ds)\n",
    "fldm1acc = fldm1.fischers()\n",
    "print(\"Accuracy of FLDM1 = \", fldm1acc, \"%\")"
   ]
  },
  {
   "attachments": {},
   "cell_type": "markdown",
   "metadata": {},
   "source": [
    "## Task 2\n",
    "Change the order of features in the dataset randomly. Equivalently speaking,\n",
    "for an example of feature tuple (f1, f2, f3, f4, . . , f32), consider a random permutation (f3, f1, f4,\n",
    "f2, f6, ….., f32) and build the Fisher’s linear discriminant model (FLDM2) on the same training\n",
    "data as in the learning task 1. Find out the decision boundary in the univariate dimension using\n",
    "generative approach and you may assume gaussian distribution for both positive and negative \n",
    "classes in the univariate dimension. Outline the difference between the models – FLDM1 and\n",
    "FLDM2 - and their respective performances."
   ]
  },
  {
   "cell_type": "code",
   "execution_count": 20,
   "metadata": {},
   "outputs": [
    {
     "name": "stdout",
     "output_type": "stream",
     "text": [
      "Accuracy of FLDM1 =  95.74468085106383 %\n",
      "Accuracy of FLDM2 =  95.74468085106383 %\n"
     ]
    }
   ],
   "source": [
    "seed = random.randint(1,100)\n",
    "fldm2 = fd.Fischers(training=training_fe.ds.sample(frac=1, axis=1, random_state=seed), test=test_fe.ds.sample(frac=1, axis=1, random_state=seed))\n",
    "fldm2acc = fldm2.fischers()\n",
    "print(\"Accuracy of FLDM1 = \", fldm1acc, \"%\")\n",
    "print(\"Accuracy of FLDM2 = \", fldm2acc, \"%\")"
   ]
  },
  {
   "attachments": {},
   "cell_type": "markdown",
   "metadata": {},
   "source": [
    "## Comparing all 3 models"
   ]
  },
  {
   "cell_type": "code",
   "execution_count": 6,
   "metadata": {},
   "outputs": [
    {
     "name": "stdout",
     "output_type": "stream",
     "text": [
      "--------------------------------------------------\n",
      "Perceptron Accuracy:  92.02127659574468 %\n",
      "Fischers LDA Accuracy:  93.61702127659575 %\n",
      "--------------------------------------------------\n",
      "Perceptron Accuracy:  95.74468085106383 %\n",
      "Fischers LDA Accuracy:  96.80851063829788 %\n",
      "--------------------------------------------------\n",
      "Perceptron Accuracy:  94.14893617021276 %\n",
      "Fischers LDA Accuracy:  96.27659574468085 %\n",
      "--------------------------------------------------\n",
      "Perceptron Accuracy:  95.2127659574468 %\n",
      "Fischers LDA Accuracy:  97.3404255319149 %\n",
      "--------------------------------------------------\n",
      "Perceptron Accuracy:  94.68085106382979 %\n",
      "Fischers LDA Accuracy:  97.87234042553192 %\n",
      "--------------------------------------------------\n",
      "Perceptron Accuracy:  94.68085106382979 %\n",
      "Fischers LDA Accuracy:  94.68085106382979 %\n",
      "--------------------------------------------------\n",
      "Perceptron Accuracy:  95.2127659574468 %\n",
      "Fischers LDA Accuracy:  95.2127659574468 %\n",
      "--------------------------------------------------\n",
      "Perceptron Accuracy:  93.61702127659575 %\n",
      "Fischers LDA Accuracy:  95.2127659574468 %\n",
      "--------------------------------------------------\n",
      "Perceptron Accuracy:  96.80851063829788 %\n",
      "Fischers LDA Accuracy:  97.3404255319149 %\n",
      "--------------------------------------------------\n",
      "Perceptron Accuracy:  93.08510638297872 %\n",
      "Fischers LDA Accuracy:  95.74468085106383 %\n",
      "--------------------------------------------------\n",
      "Mean accuracy of Perceptron:  94.5212765957447 %\n",
      "Mean accuracy of Fischers:  96.01063829787233 %\n"
     ]
    }
   ],
   "source": [
    "perceptron_acc_mean = 0\n",
    "fischers_acc_mean = 0\n",
    "print(\"-\"*50)\n",
    "for i in range(10):\n",
    "    seed = random.randint(1,100)\n",
    "    training= data.sample(frac=0.67, random_state=seed)\n",
    "    test = data.drop(training.index)\n",
    "    training_fe = fe.FeatureEngineering(training)\n",
    "    training_fe.task1()\n",
    "    training_fe.task2()\n",
    "    test_fe = fe.FeatureEngineering(test)\n",
    "    test_fe.task1()\n",
    "    test_fe.task2()\n",
    "    obj3 = pe.Perceptron(training=training_fe.ds, test=test_fe.ds)\n",
    "    obj2 = fd.Fischers(training=training_fe.ds, test=test_fe.ds)\n",
    "    perceptron_acc = obj3.perceptron(epochs=10000)\n",
    "    fischers_acc = obj2.fischers()\n",
    "    print(\"Perceptron Accuracy: \", perceptron_acc, \"%\")\n",
    "    perceptron_acc_mean = perceptron_acc_mean + perceptron_acc\n",
    "    print(\"Fischers LDA Accuracy: \", fischers_acc, \"%\")\n",
    "    fischers_acc_mean = fischers_acc_mean + fischers_acc\n",
    "    print(\"-\"*50)\n",
    "print(\"Mean accuracy of Perceptron: \", perceptron_acc_mean/10 , \"%\")\n",
    "print(\"Mean accuracy of Fischers: \", fischers_acc_mean/10 , \"%\")"
   ]
  }
 ],
 "metadata": {
  "kernelspec": {
   "display_name": "Python 3",
   "language": "python",
   "name": "python3"
  },
  "language_info": {
   "codemirror_mode": {
    "name": "ipython",
    "version": 3
   },
   "file_extension": ".py",
   "mimetype": "text/x-python",
   "name": "python",
   "nbconvert_exporter": "python",
   "pygments_lexer": "ipython3",
   "version": "3.10.10"
  },
  "orig_nbformat": 4,
  "vscode": {
   "interpreter": {
    "hash": "bd385fe162c5ca0c84973b7dd5c518456272446b2b64e67c2a69f949ca7a1754"
   }
  }
 },
 "nbformat": 4,
 "nbformat_minor": 2
}
